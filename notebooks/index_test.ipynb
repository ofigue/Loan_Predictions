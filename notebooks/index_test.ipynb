{
 "metadata": {
  "language_info": {
   "codemirror_mode": {
    "name": "ipython",
    "version": 3
   },
   "file_extension": ".py",
   "mimetype": "text/x-python",
   "name": "python",
   "nbconvert_exporter": "python",
   "pygments_lexer": "ipython3",
   "version": "3.7.4-final"
  },
  "orig_nbformat": 2,
  "kernelspec": {
   "name": "Python 3.7.4 64-bit ('base': conda)",
   "display_name": "Python 3.7.4 64-bit ('base': conda)",
   "metadata": {
    "interpreter": {
     "hash": "51e4d05327a60c7f31fc228e2be4b3d6dd36915abce1b057370353f73322f49c"
    }
   }
  }
 },
 "nbformat": 4,
 "nbformat_minor": 2,
 "cells": [
  {
   "cell_type": "code",
   "execution_count": 1,
   "metadata": {},
   "outputs": [],
   "source": [
    "import pandas as pd\n",
    "import numpy as np\n"
   ]
  },
  {
   "cell_type": "code",
   "execution_count": 2,
   "metadata": {},
   "outputs": [],
   "source": [
    "testset =  pd.read_csv('../models/xgb_submission.csv')"
   ]
  },
  {
   "cell_type": "code",
   "execution_count": 3,
   "metadata": {},
   "outputs": [
    {
     "output_type": "execute_result",
     "data": {
      "text/plain": [
       "      id    target\n",
       "0    614  0.708990\n",
       "1    615  0.708990\n",
       "2    616  0.708990\n",
       "3    617  0.708990\n",
       "4    618  0.479202\n",
       "..   ...       ...\n",
       "362  976  0.633725\n",
       "363  977  0.708990\n",
       "364  978  0.564041\n",
       "365  979  0.708990\n",
       "366  980  0.564041\n",
       "\n",
       "[367 rows x 2 columns]"
      ],
      "text/html": "<div>\n<style scoped>\n    .dataframe tbody tr th:only-of-type {\n        vertical-align: middle;\n    }\n\n    .dataframe tbody tr th {\n        vertical-align: top;\n    }\n\n    .dataframe thead th {\n        text-align: right;\n    }\n</style>\n<table border=\"1\" class=\"dataframe\">\n  <thead>\n    <tr style=\"text-align: right;\">\n      <th></th>\n      <th>id</th>\n      <th>target</th>\n    </tr>\n  </thead>\n  <tbody>\n    <tr>\n      <td>0</td>\n      <td>614</td>\n      <td>0.708990</td>\n    </tr>\n    <tr>\n      <td>1</td>\n      <td>615</td>\n      <td>0.708990</td>\n    </tr>\n    <tr>\n      <td>2</td>\n      <td>616</td>\n      <td>0.708990</td>\n    </tr>\n    <tr>\n      <td>3</td>\n      <td>617</td>\n      <td>0.708990</td>\n    </tr>\n    <tr>\n      <td>4</td>\n      <td>618</td>\n      <td>0.479202</td>\n    </tr>\n    <tr>\n      <td>...</td>\n      <td>...</td>\n      <td>...</td>\n    </tr>\n    <tr>\n      <td>362</td>\n      <td>976</td>\n      <td>0.633725</td>\n    </tr>\n    <tr>\n      <td>363</td>\n      <td>977</td>\n      <td>0.708990</td>\n    </tr>\n    <tr>\n      <td>364</td>\n      <td>978</td>\n      <td>0.564041</td>\n    </tr>\n    <tr>\n      <td>365</td>\n      <td>979</td>\n      <td>0.708990</td>\n    </tr>\n    <tr>\n      <td>366</td>\n      <td>980</td>\n      <td>0.564041</td>\n    </tr>\n  </tbody>\n</table>\n<p>367 rows × 2 columns</p>\n</div>"
     },
     "metadata": {},
     "execution_count": 3
    }
   ],
   "source": [
    "testset"
   ]
  },
  {
   "cell_type": "code",
   "execution_count": 4,
   "metadata": {},
   "outputs": [],
   "source": [
    "sample_submission = pd.read_csv('../input/sample_submission_49d68Cx.csv')"
   ]
  },
  {
   "cell_type": "code",
   "execution_count": 5,
   "metadata": {},
   "outputs": [],
   "source": [
    "del testset['id']\n",
    "del sample_submission['Loan_Status']"
   ]
  },
  {
   "cell_type": "code",
   "execution_count": 6,
   "metadata": {},
   "outputs": [
    {
     "output_type": "execute_result",
     "data": {
      "text/plain": [
       "     target\n",
       "0  0.708990\n",
       "1  0.708990\n",
       "2  0.708990\n",
       "3  0.708990\n",
       "4  0.479202"
      ],
      "text/html": "<div>\n<style scoped>\n    .dataframe tbody tr th:only-of-type {\n        vertical-align: middle;\n    }\n\n    .dataframe tbody tr th {\n        vertical-align: top;\n    }\n\n    .dataframe thead th {\n        text-align: right;\n    }\n</style>\n<table border=\"1\" class=\"dataframe\">\n  <thead>\n    <tr style=\"text-align: right;\">\n      <th></th>\n      <th>target</th>\n    </tr>\n  </thead>\n  <tbody>\n    <tr>\n      <td>0</td>\n      <td>0.708990</td>\n    </tr>\n    <tr>\n      <td>1</td>\n      <td>0.708990</td>\n    </tr>\n    <tr>\n      <td>2</td>\n      <td>0.708990</td>\n    </tr>\n    <tr>\n      <td>3</td>\n      <td>0.708990</td>\n    </tr>\n    <tr>\n      <td>4</td>\n      <td>0.479202</td>\n    </tr>\n  </tbody>\n</table>\n</div>"
     },
     "metadata": {},
     "execution_count": 6
    }
   ],
   "source": [
    "testset.head()"
   ]
  },
  {
   "cell_type": "code",
   "execution_count": 7,
   "metadata": {},
   "outputs": [],
   "source": [
    "testset['label'] = testset['target'].apply(lambda x: 'Y' if x > 0.5 else 'N')"
   ]
  },
  {
   "cell_type": "code",
   "execution_count": 8,
   "metadata": {},
   "outputs": [
    {
     "output_type": "execute_result",
     "data": {
      "text/plain": [
       "    Loan_ID\n",
       "0  LP001015\n",
       "1  LP001022\n",
       "2  LP001031\n",
       "3  LP001035\n",
       "4  LP001051"
      ],
      "text/html": "<div>\n<style scoped>\n    .dataframe tbody tr th:only-of-type {\n        vertical-align: middle;\n    }\n\n    .dataframe tbody tr th {\n        vertical-align: top;\n    }\n\n    .dataframe thead th {\n        text-align: right;\n    }\n</style>\n<table border=\"1\" class=\"dataframe\">\n  <thead>\n    <tr style=\"text-align: right;\">\n      <th></th>\n      <th>Loan_ID</th>\n    </tr>\n  </thead>\n  <tbody>\n    <tr>\n      <td>0</td>\n      <td>LP001015</td>\n    </tr>\n    <tr>\n      <td>1</td>\n      <td>LP001022</td>\n    </tr>\n    <tr>\n      <td>2</td>\n      <td>LP001031</td>\n    </tr>\n    <tr>\n      <td>3</td>\n      <td>LP001035</td>\n    </tr>\n    <tr>\n      <td>4</td>\n      <td>LP001051</td>\n    </tr>\n  </tbody>\n</table>\n</div>"
     },
     "metadata": {},
     "execution_count": 8
    }
   ],
   "source": [
    "sample_submission.head()"
   ]
  },
  {
   "cell_type": "code",
   "execution_count": 9,
   "metadata": {},
   "outputs": [],
   "source": [
    "test = pd.concat([sample_submission, testset], axis=1)"
   ]
  },
  {
   "cell_type": "code",
   "execution_count": 10,
   "metadata": {},
   "outputs": [],
   "source": [
    "del test['target']"
   ]
  },
  {
   "cell_type": "code",
   "execution_count": 11,
   "metadata": {},
   "outputs": [
    {
     "output_type": "execute_result",
     "data": {
      "text/plain": [
       "    Loan_ID label\n",
       "0  LP001015     Y\n",
       "1  LP001022     Y\n",
       "2  LP001031     Y\n",
       "3  LP001035     Y\n",
       "4  LP001051     N"
      ],
      "text/html": "<div>\n<style scoped>\n    .dataframe tbody tr th:only-of-type {\n        vertical-align: middle;\n    }\n\n    .dataframe tbody tr th {\n        vertical-align: top;\n    }\n\n    .dataframe thead th {\n        text-align: right;\n    }\n</style>\n<table border=\"1\" class=\"dataframe\">\n  <thead>\n    <tr style=\"text-align: right;\">\n      <th></th>\n      <th>Loan_ID</th>\n      <th>label</th>\n    </tr>\n  </thead>\n  <tbody>\n    <tr>\n      <td>0</td>\n      <td>LP001015</td>\n      <td>Y</td>\n    </tr>\n    <tr>\n      <td>1</td>\n      <td>LP001022</td>\n      <td>Y</td>\n    </tr>\n    <tr>\n      <td>2</td>\n      <td>LP001031</td>\n      <td>Y</td>\n    </tr>\n    <tr>\n      <td>3</td>\n      <td>LP001035</td>\n      <td>Y</td>\n    </tr>\n    <tr>\n      <td>4</td>\n      <td>LP001051</td>\n      <td>N</td>\n    </tr>\n  </tbody>\n</table>\n</div>"
     },
     "metadata": {},
     "execution_count": 11
    }
   ],
   "source": [
    "test.head()"
   ]
  },
  {
   "cell_type": "code",
   "execution_count": 12,
   "metadata": {},
   "outputs": [],
   "source": [
    "test.rename(columns={'label':'Loan_Status'}, inplace=True)"
   ]
  },
  {
   "cell_type": "code",
   "execution_count": 13,
   "metadata": {},
   "outputs": [
    {
     "output_type": "execute_result",
     "data": {
      "text/plain": [
       "    Loan_ID Loan_Status\n",
       "0  LP001015           Y\n",
       "1  LP001022           Y\n",
       "2  LP001031           Y\n",
       "3  LP001035           Y\n",
       "4  LP001051           N"
      ],
      "text/html": "<div>\n<style scoped>\n    .dataframe tbody tr th:only-of-type {\n        vertical-align: middle;\n    }\n\n    .dataframe tbody tr th {\n        vertical-align: top;\n    }\n\n    .dataframe thead th {\n        text-align: right;\n    }\n</style>\n<table border=\"1\" class=\"dataframe\">\n  <thead>\n    <tr style=\"text-align: right;\">\n      <th></th>\n      <th>Loan_ID</th>\n      <th>Loan_Status</th>\n    </tr>\n  </thead>\n  <tbody>\n    <tr>\n      <td>0</td>\n      <td>LP001015</td>\n      <td>Y</td>\n    </tr>\n    <tr>\n      <td>1</td>\n      <td>LP001022</td>\n      <td>Y</td>\n    </tr>\n    <tr>\n      <td>2</td>\n      <td>LP001031</td>\n      <td>Y</td>\n    </tr>\n    <tr>\n      <td>3</td>\n      <td>LP001035</td>\n      <td>Y</td>\n    </tr>\n    <tr>\n      <td>4</td>\n      <td>LP001051</td>\n      <td>N</td>\n    </tr>\n  </tbody>\n</table>\n</div>"
     },
     "metadata": {},
     "execution_count": 13
    }
   ],
   "source": [
    "test.head()"
   ]
  },
  {
   "cell_type": "code",
   "execution_count": 14,
   "metadata": {},
   "outputs": [],
   "source": [
    "test.to_csv('../models/xgb_submission.csv', index=False)"
   ]
  },
  {
   "cell_type": "code",
   "execution_count": null,
   "metadata": {},
   "outputs": [],
   "source": []
  }
 ]
}